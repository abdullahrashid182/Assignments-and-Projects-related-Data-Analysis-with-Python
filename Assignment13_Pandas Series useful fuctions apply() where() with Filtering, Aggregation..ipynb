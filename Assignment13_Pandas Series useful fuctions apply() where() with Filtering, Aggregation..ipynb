{
 "cells": [
  {
   "cell_type": "code",
   "execution_count": 6,
   "id": "e76af436",
   "metadata": {},
   "outputs": [
    {
     "data": {
      "text/plain": [
       "2016-12-20    52.22\n",
       "2016-12-21      NaN\n",
       "2016-12-22    51.98\n",
       "2016-12-23    52.01\n",
       "2016-12-27    52.82\n",
       "              ...  \n",
       "2017-05-09    45.84\n",
       "2017-05-10    47.28\n",
       "2017-05-11    47.81\n",
       "2017-05-12      NaN\n",
       "2017-05-15    48.86\n",
       "Name: Oil Series, Length: 100, dtype: float64"
      ]
     },
     "execution_count": 6,
     "metadata": {},
     "output_type": "execute_result"
    }
   ],
   "source": [
    "import numpy as np\n",
    "import pandas as pd\n",
    "oil = pd.read_csv('C:/Users/Abdullah Rashid/Desktop/Data Analysis with Python Udemy Course/Pandas+Course+Resources/Pandas Course Resources/retail/oil.csv').dropna()\n",
    "oil_array = np.array(oil['dcoilwtico'].iloc[1000:1100])\n",
    "oil_series = pd.Series(oil_array,name='Oil Series')\n",
    "date_array = np.array(oil['date'].iloc[1000:1100])\n",
    "oil_series.index = date_array\n",
    "oil_series = oil_series.where(~oil_series.isin([51.44,47.83]), np.NaN)\n",
    "oil_series"
   ]
  },
  {
   "cell_type": "code",
   "execution_count": 8,
   "id": "374d6c05",
   "metadata": {},
   "outputs": [
    {
     "data": {
      "text/plain": [
       "53.813"
      ]
     },
     "execution_count": 8,
     "metadata": {},
     "output_type": "execute_result"
    }
   ],
   "source": [
    "ninth_percentile = oil_series.quantile(0.9)\n",
    "ninth_percentile"
   ]
  },
  {
   "cell_type": "code",
   "execution_count": 16,
   "id": "bfd621fd",
   "metadata": {},
   "outputs": [
    {
     "data": {
      "text/plain": [
       "2016-12-20     buy\n",
       "2016-12-21    wait\n",
       "2016-12-22     buy\n",
       "2016-12-23     buy\n",
       "2016-12-27     buy\n",
       "              ... \n",
       "2017-05-09     buy\n",
       "2017-05-10     buy\n",
       "2017-05-11     buy\n",
       "2017-05-12    wait\n",
       "2017-05-15     buy\n",
       "Name: Oil Series, Length: 100, dtype: object"
      ]
     },
     "execution_count": 16,
     "metadata": {},
     "output_type": "execute_result"
    }
   ],
   "source": [
    "oil_series1 = oil_series.apply(lambda x: 'buy' if x < ninth_percentile else 'wait')\n",
    "oil_series1"
   ]
  },
  {
   "cell_type": "code",
   "execution_count": 14,
   "id": "66900e31",
   "metadata": {},
   "outputs": [
    {
     "data": {
      "text/plain": [
       "buy     88\n",
       "wait    12\n",
       "Name: Oil Series, dtype: int64"
      ]
     },
     "execution_count": 14,
     "metadata": {},
     "output_type": "execute_result"
    }
   ],
   "source": [
    "oil_series1.value_counts(dropna = False)"
   ]
  },
  {
   "cell_type": "code",
   "execution_count": 25,
   "id": "4e199a37",
   "metadata": {},
   "outputs": [
    {
     "data": {
      "text/plain": [
       "0     57.442\n",
       "1        NaN\n",
       "2     57.178\n",
       "3     46.809\n",
       "4     58.102\n",
       "       ...  \n",
       "95    50.424\n",
       "96    42.552\n",
       "97    52.591\n",
       "98       NaN\n",
       "99    53.746\n",
       "Length: 100, dtype: float64"
      ]
     },
     "execution_count": 25,
     "metadata": {},
     "output_type": "execute_result"
    }
   ],
   "source": [
    "oil_series2 = pd.Series(np.where(oil_series.index.isin(['2016-12-23','2017-05-10']),oil_series*0.9,oil_series*1.1))\n",
    "oil_series2"
   ]
  }
 ],
 "metadata": {
  "kernelspec": {
   "display_name": "Python 3 (ipykernel)",
   "language": "python",
   "name": "python3"
  },
  "language_info": {
   "codemirror_mode": {
    "name": "ipython",
    "version": 3
   },
   "file_extension": ".py",
   "mimetype": "text/x-python",
   "name": "python",
   "nbconvert_exporter": "python",
   "pygments_lexer": "ipython3",
   "version": "3.9.12"
  }
 },
 "nbformat": 4,
 "nbformat_minor": 5
}
