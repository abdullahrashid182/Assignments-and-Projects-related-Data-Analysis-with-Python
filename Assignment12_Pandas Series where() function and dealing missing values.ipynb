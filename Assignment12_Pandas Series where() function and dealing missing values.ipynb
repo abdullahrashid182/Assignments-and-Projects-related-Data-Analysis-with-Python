{
 "cells": [
  {
   "cell_type": "code",
   "execution_count": 28,
   "id": "cef274f0",
   "metadata": {},
   "outputs": [
    {
     "data": {
      "text/plain": [
       "2016-12-20    52.22\n",
       "2016-12-21    51.44\n",
       "2016-12-22    51.98\n",
       "2016-12-23    52.01\n",
       "2016-12-27    52.82\n",
       "              ...  \n",
       "2017-05-09    45.84\n",
       "2017-05-10    47.28\n",
       "2017-05-11    47.81\n",
       "2017-05-12    47.83\n",
       "2017-05-15    48.86\n",
       "Name: Oil Series, Length: 100, dtype: float64"
      ]
     },
     "execution_count": 28,
     "metadata": {},
     "output_type": "execute_result"
    }
   ],
   "source": [
    "import numpy as np\n",
    "import pandas as pd\n",
    "oil = pd.read_csv('C:/Users/Abdullah Rashid/Desktop/Data Analysis with Python Udemy Course/Pandas+Course+Resources/Pandas Course Resources/retail/oil.csv').dropna()\n",
    "oil_array = np.array(oil['dcoilwtico'].iloc[1000:1100])\n",
    "oil_series = pd.Series(oil_array,name='Oil Series')\n",
    "date_array = np.array(oil['date'].iloc[1000:1100])\n",
    "oil_series.index = date_array\n",
    "oil_series"
   ]
  },
  {
   "cell_type": "code",
   "execution_count": 29,
   "id": "65ff5834",
   "metadata": {},
   "outputs": [
    {
     "data": {
      "text/plain": [
       "2016-12-20    52.22\n",
       "2016-12-21      NaN\n",
       "2016-12-22    51.98\n",
       "2016-12-23    52.01\n",
       "2016-12-27    52.82\n",
       "              ...  \n",
       "2017-05-09    45.84\n",
       "2017-05-10    47.28\n",
       "2017-05-11    47.81\n",
       "2017-05-12      NaN\n",
       "2017-05-15    48.86\n",
       "Name: Oil Series, Length: 100, dtype: float64"
      ]
     },
     "execution_count": 29,
     "metadata": {},
     "output_type": "execute_result"
    }
   ],
   "source": [
    "oil_series = oil_series.where(~oil_series.isin([51.44,47.83]), np.NaN) # Different from numpy's where() function.\n",
    "oil_series"
   ]
  },
  {
   "cell_type": "code",
   "execution_count": 31,
   "id": "b08a36ea",
   "metadata": {},
   "outputs": [
    {
     "data": {
      "text/plain": [
       "2"
      ]
     },
     "execution_count": 31,
     "metadata": {},
     "output_type": "execute_result"
    }
   ],
   "source": [
    "oil_series.isna().sum()"
   ]
  },
  {
   "cell_type": "code",
   "execution_count": 32,
   "id": "40de6d69",
   "metadata": {},
   "outputs": [
    {
     "data": {
      "text/plain": [
       "2016-12-20    52.220\n",
       "2016-12-21    52.205\n",
       "2016-12-22    51.980\n",
       "2016-12-23    52.010\n",
       "2016-12-27    52.820\n",
       "               ...  \n",
       "2017-05-09    45.840\n",
       "2017-05-10    47.280\n",
       "2017-05-11    47.810\n",
       "2017-05-12    52.205\n",
       "2017-05-15    48.860\n",
       "Name: Oil Series, Length: 100, dtype: float64"
      ]
     },
     "execution_count": 32,
     "metadata": {},
     "output_type": "execute_result"
    }
   ],
   "source": [
    "oil_series.fillna(oil_series.median())"
   ]
  }
 ],
 "metadata": {
  "kernelspec": {
   "display_name": "Python 3 (ipykernel)",
   "language": "python",
   "name": "python3"
  },
  "language_info": {
   "codemirror_mode": {
    "name": "ipython",
    "version": 3
   },
   "file_extension": ".py",
   "mimetype": "text/x-python",
   "name": "python",
   "nbconvert_exporter": "python",
   "pygments_lexer": "ipython3",
   "version": "3.9.12"
  }
 },
 "nbformat": 4,
 "nbformat_minor": 5
}
