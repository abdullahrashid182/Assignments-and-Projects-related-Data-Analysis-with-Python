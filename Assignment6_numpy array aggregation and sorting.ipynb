{
 "cells": [
  {
   "cell_type": "code",
   "execution_count": 1,
   "id": "1043d1bf",
   "metadata": {},
   "outputs": [
    {
     "data": {
      "text/plain": [
       "array([ 5.99,  6.99, 22.49, 99.99,  4.99, 49.99])"
      ]
     },
     "execution_count": 1,
     "metadata": {},
     "output_type": "execute_result"
    }
   ],
   "source": [
    "import numpy as np\n",
    "prices = np.array([5.99,6.99,22.49,99.99,4.99,49.99])\n",
    "prices"
   ]
  },
  {
   "cell_type": "code",
   "execution_count": 3,
   "id": "42cf5879",
   "metadata": {},
   "outputs": [
    {
     "data": {
      "text/plain": [
       "array([ 4.99,  5.99,  6.99, 22.49, 49.99, 99.99])"
      ]
     },
     "execution_count": 3,
     "metadata": {},
     "output_type": "execute_result"
    }
   ],
   "source": [
    "prices.sort()\n",
    "prices"
   ]
  },
  {
   "cell_type": "code",
   "execution_count": 9,
   "id": "703ef874",
   "metadata": {},
   "outputs": [
    {
     "data": {
      "text/plain": [
       "array([99.99, 49.99, 22.49])"
      ]
     },
     "execution_count": 9,
     "metadata": {},
     "output_type": "execute_result"
    }
   ],
   "source": [
    "top_three=prices[-1:-4:-1] # prices[-3:] will also give same results\n",
    "top_three"
   ]
  },
  {
   "cell_type": "code",
   "execution_count": 18,
   "id": "d3201db6",
   "metadata": {},
   "outputs": [
    {
     "name": "stdout",
     "output_type": "stream",
     "text": [
      "57.49\n",
      "22.49\n",
      "99.99\n",
      "49.99\n"
     ]
    }
   ],
   "source": [
    "mean = top_three.mean() \n",
    "minimum = top_three.min()\n",
    "maximum = top_three.max()\n",
    "Median=np.median(top_three)\n",
    "\n",
    "# mean , median, min and max\n",
    "print(mean)\n",
    "print(minimum)\n",
    "print(maximum)\n",
    "print(Median)"
   ]
  },
  {
   "cell_type": "code",
   "execution_count": 20,
   "id": "95585220",
   "metadata": {},
   "outputs": [
    {
     "data": {
      "text/plain": [
       "array(['budget', 'budget', 'mid-tier', 'luxury', 'mid-tier', 'luxury'],\n",
       "      dtype='<U8')"
      ]
     },
     "execution_count": 20,
     "metadata": {},
     "output_type": "execute_result"
    }
   ],
   "source": [
    "price_tier=np.array(['budget','budget','mid-tier','luxury','mid-tier','luxury'])\n",
    "price_tier"
   ]
  },
  {
   "cell_type": "code",
   "execution_count": 22,
   "id": "503f91a6",
   "metadata": {},
   "outputs": [
    {
     "data": {
      "text/plain": [
       "array(['budget', 'luxury', 'mid-tier'], dtype='<U8')"
      ]
     },
     "execution_count": 22,
     "metadata": {},
     "output_type": "execute_result"
    }
   ],
   "source": [
    "unique_tier_array=np.unique(price_tier) # for having unique tier elements\n",
    "unique_tier_array"
   ]
  },
  {
   "cell_type": "code",
   "execution_count": 30,
   "id": "44af09ed",
   "metadata": {},
   "outputs": [
    {
     "data": {
      "text/plain": [
       "3"
      ]
     },
     "execution_count": 30,
     "metadata": {},
     "output_type": "execute_result"
    }
   ],
   "source": [
    "unique_tier_array.size  # size of array having unique price tier"
   ]
  }
 ],
 "metadata": {
  "kernelspec": {
   "display_name": "Python 3 (ipykernel)",
   "language": "python",
   "name": "python3"
  },
  "language_info": {
   "codemirror_mode": {
    "name": "ipython",
    "version": 3
   },
   "file_extension": ".py",
   "mimetype": "text/x-python",
   "name": "python",
   "nbconvert_exporter": "python",
   "pygments_lexer": "ipython3",
   "version": "3.9.12"
  }
 },
 "nbformat": 4,
 "nbformat_minor": 5
}
