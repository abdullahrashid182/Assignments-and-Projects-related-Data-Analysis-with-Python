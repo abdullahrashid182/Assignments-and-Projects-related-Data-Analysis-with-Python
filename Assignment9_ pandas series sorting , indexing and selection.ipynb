{
 "cells": [
  {
   "cell_type": "code",
   "execution_count": 1,
   "id": "4c2eddd9",
   "metadata": {},
   "outputs": [
    {
     "data": {
      "text/plain": [
       "0     52.22\n",
       "1     51.44\n",
       "2     51.98\n",
       "3     52.01\n",
       "4     52.82\n",
       "      ...  \n",
       "95    45.84\n",
       "96    47.28\n",
       "97    47.81\n",
       "98    47.83\n",
       "99    48.86\n",
       "Name: Oil Series, Length: 100, dtype: float64"
      ]
     },
     "execution_count": 1,
     "metadata": {},
     "output_type": "execute_result"
    }
   ],
   "source": [
    "import numpy as np\n",
    "import pandas as pd\n",
    "oil = pd.read_csv('C:/Users/Abdullah Rashid/Desktop/Data Analysis with Python Udemy Course/Pandas+Course+Resources/Pandas Course Resources/retail/oil.csv').dropna()\n",
    "oil_array = np.array(oil['dcoilwtico'].iloc[1000:1100])\n",
    "oil_series = pd.Series(oil_array,name='Oil Series')\n",
    "oil_series"
   ]
  },
  {
   "cell_type": "code",
   "execution_count": 8,
   "id": "28e9990f",
   "metadata": {},
   "outputs": [
    {
     "data": {
      "text/plain": [
       "array(['2016-12-20', '2016-12-21', '2016-12-22', '2016-12-23',\n",
       "       '2016-12-27', '2016-12-28', '2016-12-29', '2016-12-30',\n",
       "       '2017-01-03', '2017-01-04', '2017-01-05', '2017-01-06',\n",
       "       '2017-01-09', '2017-01-10', '2017-01-11', '2017-01-12',\n",
       "       '2017-01-13', '2017-01-17', '2017-01-18', '2017-01-19',\n",
       "       '2017-01-20', '2017-01-23', '2017-01-24', '2017-01-25',\n",
       "       '2017-01-26', '2017-01-27', '2017-01-30', '2017-01-31',\n",
       "       '2017-02-01', '2017-02-02', '2017-02-03', '2017-02-06',\n",
       "       '2017-02-07', '2017-02-08', '2017-02-09', '2017-02-10',\n",
       "       '2017-02-13', '2017-02-14', '2017-02-15', '2017-02-16',\n",
       "       '2017-02-17', '2017-02-21', '2017-02-22', '2017-02-23',\n",
       "       '2017-02-24', '2017-02-27', '2017-02-28', '2017-03-01',\n",
       "       '2017-03-02', '2017-03-03', '2017-03-06', '2017-03-07',\n",
       "       '2017-03-08', '2017-03-09', '2017-03-10', '2017-03-13',\n",
       "       '2017-03-14', '2017-03-15', '2017-03-16', '2017-03-17',\n",
       "       '2017-03-20', '2017-03-21', '2017-03-22', '2017-03-23',\n",
       "       '2017-03-24', '2017-03-27', '2017-03-28', '2017-03-29',\n",
       "       '2017-03-30', '2017-03-31', '2017-04-03', '2017-04-04',\n",
       "       '2017-04-05', '2017-04-06', '2017-04-07', '2017-04-10',\n",
       "       '2017-04-11', '2017-04-12', '2017-04-13', '2017-04-17',\n",
       "       '2017-04-18', '2017-04-19', '2017-04-20', '2017-04-21',\n",
       "       '2017-04-24', '2017-04-25', '2017-04-26', '2017-04-27',\n",
       "       '2017-04-28', '2017-05-01', '2017-05-02', '2017-05-03',\n",
       "       '2017-05-04', '2017-05-05', '2017-05-08', '2017-05-09',\n",
       "       '2017-05-10', '2017-05-11', '2017-05-12', '2017-05-15'],\n",
       "      dtype=object)"
      ]
     },
     "execution_count": 8,
     "metadata": {},
     "output_type": "execute_result"
    }
   ],
   "source": [
    "date_array = np.array(oil['date'].iloc[1000:1100])\n",
    "date_array"
   ]
  },
  {
   "cell_type": "code",
   "execution_count": 9,
   "id": "f753c65f",
   "metadata": {},
   "outputs": [
    {
     "data": {
      "text/plain": [
       "2016-12-20    52.22\n",
       "2016-12-21    51.44\n",
       "2016-12-22    51.98\n",
       "2016-12-23    52.01\n",
       "2016-12-27    52.82\n",
       "              ...  \n",
       "2017-05-09    45.84\n",
       "2017-05-10    47.28\n",
       "2017-05-11    47.81\n",
       "2017-05-12    47.83\n",
       "2017-05-15    48.86\n",
       "Name: Oil Series, Length: 100, dtype: float64"
      ]
     },
     "execution_count": 9,
     "metadata": {},
     "output_type": "execute_result"
    }
   ],
   "source": [
    "oil_series.index = date_array\n",
    "oil_series"
   ]
  },
  {
   "cell_type": "code",
   "execution_count": 12,
   "id": "37c8d851",
   "metadata": {},
   "outputs": [
    {
     "data": {
      "text/plain": [
       "2017-05-04    45.55\n",
       "2017-05-09    45.84\n",
       "2017-05-05    46.23\n",
       "2017-05-08    46.46\n",
       "2017-03-23    47.00\n",
       "2017-03-21    47.02\n",
       "2017-03-27    47.02\n",
       "2017-03-14    47.24\n",
       "2017-05-10    47.28\n",
       "2017-03-22    47.29\n",
       "Name: Oil Series, dtype: float64"
      ]
     },
     "execution_count": 12,
     "metadata": {},
     "output_type": "execute_result"
    }
   ],
   "source": [
    "oil_lowest10prices = oil_series.sort_values()[:10]   #oil_series.sort_values().iloc[:10] can be used as well\n",
    "oil_lowest10prices"
   ]
  },
  {
   "cell_type": "code",
   "execution_count": 14,
   "id": "0809f30a",
   "metadata": {},
   "outputs": [],
   "source": [
    " oil_series_bydate =oil_lowest10prices.sort_index(ascending = False)"
   ]
  },
  {
   "cell_type": "code",
   "execution_count": 15,
   "id": "f056891f",
   "metadata": {},
   "outputs": [
    {
     "data": {
      "text/plain": [
       "2017-05-10    47.28\n",
       "2017-05-09    45.84\n",
       "2017-05-08    46.46\n",
       "2017-05-05    46.23\n",
       "2017-05-04    45.55\n",
       "2017-03-27    47.02\n",
       "2017-03-23    47.00\n",
       "2017-03-22    47.29\n",
       "2017-03-21    47.02\n",
       "2017-03-14    47.24\n",
       "Name: Oil Series, dtype: float64"
      ]
     },
     "execution_count": 15,
     "metadata": {},
     "output_type": "execute_result"
    }
   ],
   "source": [
    " oil_series_bydate"
   ]
  },
  {
   "cell_type": "code",
   "execution_count": 26,
   "id": "1c7769b5",
   "metadata": {},
   "outputs": [
    {
     "data": {
      "text/plain": [
       "2016-12-20    52.22\n",
       "2016-12-21    51.44\n",
       "2016-12-22    51.98\n",
       "2016-12-23    52.01\n",
       "2016-12-27    52.82\n",
       "              ...  \n",
       "2017-05-09    45.84\n",
       "2017-05-10    47.28\n",
       "2017-05-11    47.81\n",
       "2017-05-12    47.83\n",
       "2017-05-15    48.86\n",
       "Name: Oil Series, Length: 100, dtype: float64"
      ]
     },
     "execution_count": 26,
     "metadata": {},
     "output_type": "execute_result"
    }
   ],
   "source": [
    "dates1 = ['2016-12-22','2017-05-03','2017-01-06','2017-03-05','2017-02-12','2017-03-21','2017-04-14','2017-04-15']\n",
    "oil_series "
   ]
  },
  {
   "cell_type": "code",
   "execution_count": 37,
   "id": "93737343",
   "metadata": {},
   "outputs": [
    {
     "data": {
      "text/plain": [
       "2017-03-21    47.02\n",
       "2017-05-03    47.79\n",
       "Name: Oil Series, dtype: float64"
      ]
     },
     "execution_count": 37,
     "metadata": {},
     "output_type": "execute_result"
    }
   ],
   "source": [
    "oil_series_selective = oil_series.loc[(oil_series.index.isin(dates1)) & (oil_series <= 50)]  \n",
    "oil_series_selective # can use oil_series.values <=50 or oil_series.le(50) as well"
   ]
  },
  {
   "cell_type": "code",
   "execution_count": null,
   "id": "2f3486ba",
   "metadata": {},
   "outputs": [],
   "source": []
  }
 ],
 "metadata": {
  "kernelspec": {
   "display_name": "Python 3 (ipykernel)",
   "language": "python",
   "name": "python3"
  },
  "language_info": {
   "codemirror_mode": {
    "name": "ipython",
    "version": 3
   },
   "file_extension": ".py",
   "mimetype": "text/x-python",
   "name": "python",
   "nbconvert_exporter": "python",
   "pygments_lexer": "ipython3",
   "version": "3.9.12"
  }
 },
 "nbformat": 4,
 "nbformat_minor": 5
}
