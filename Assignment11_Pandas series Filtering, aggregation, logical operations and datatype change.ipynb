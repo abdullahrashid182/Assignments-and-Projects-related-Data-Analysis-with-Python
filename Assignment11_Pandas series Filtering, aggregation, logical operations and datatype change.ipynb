{
 "cells": [
  {
   "cell_type": "code",
   "execution_count": 1,
   "id": "a963e136",
   "metadata": {},
   "outputs": [
    {
     "data": {
      "text/plain": [
       "2016-12-20    52.22\n",
       "2016-12-21    51.44\n",
       "2016-12-22    51.98\n",
       "2016-12-23    52.01\n",
       "2016-12-27    52.82\n",
       "              ...  \n",
       "2017-05-09    45.84\n",
       "2017-05-10    47.28\n",
       "2017-05-11    47.81\n",
       "2017-05-12    47.83\n",
       "2017-05-15    48.86\n",
       "Name: Oil Series, Length: 100, dtype: float64"
      ]
     },
     "execution_count": 1,
     "metadata": {},
     "output_type": "execute_result"
    }
   ],
   "source": [
    "import numpy as np\n",
    "import pandas as pd\n",
    "oil = pd.read_csv('C:/Users/Abdullah Rashid/Desktop/Data Analysis with Python Udemy Course/Pandas+Course+Resources/Pandas Course Resources/retail/oil.csv').dropna()\n",
    "oil_array = np.array(oil['dcoilwtico'].iloc[1000:1100])\n",
    "oil_series = pd.Series(oil_array,name='Oil Series')\n",
    "date_array = np.array(oil['date'].iloc[1000:1100])\n",
    "oil_series.index = date_array\n",
    "oil_series"
   ]
  },
  {
   "cell_type": "code",
   "execution_count": 10,
   "id": "9d195f10",
   "metadata": {},
   "outputs": [
    {
     "data": {
      "text/plain": [
       "2017-03-01    53.82\n",
       "2017-03-02    52.63\n",
       "2017-03-03    53.33\n",
       "2017-03-06    53.19\n",
       "2017-03-07    52.68\n",
       "2017-03-08    49.83\n",
       "2017-03-09    48.75\n",
       "2017-03-10    48.05\n",
       "2017-03-13    47.95\n",
       "2017-03-14    47.24\n",
       "2017-03-15    48.34\n",
       "2017-03-16    48.30\n",
       "2017-03-17    48.34\n",
       "2017-03-20    47.79\n",
       "2017-03-21    47.02\n",
       "2017-03-22    47.29\n",
       "2017-03-23    47.00\n",
       "2017-03-24    47.30\n",
       "2017-03-27    47.02\n",
       "2017-03-28    48.36\n",
       "2017-03-29    49.47\n",
       "2017-03-30    50.30\n",
       "2017-03-31    50.54\n",
       "Name: Oil Series, dtype: float64"
      ]
     },
     "execution_count": 10,
     "metadata": {},
     "output_type": "execute_result"
    }
   ],
   "source": [
    "oil_series1 = oil_series[oil_series.index.str[5:7]=='03']\n",
    "oil_series1\n"
   ]
  },
  {
   "cell_type": "code",
   "execution_count": 11,
   "id": "c4b6804d",
   "metadata": {},
   "outputs": [
    {
     "data": {
      "text/plain": [
       "1134.5399999999997"
      ]
     },
     "execution_count": 11,
     "metadata": {},
     "output_type": "execute_result"
    }
   ],
   "source": [
    "oil_series1.sum()"
   ]
  },
  {
   "cell_type": "code",
   "execution_count": 12,
   "id": "931aacb5",
   "metadata": {},
   "outputs": [
    {
     "data": {
      "text/plain": [
       "49.32782608695651"
      ]
     },
     "execution_count": 12,
     "metadata": {},
     "output_type": "execute_result"
    }
   ],
   "source": [
    "oil_series1.mean()"
   ]
  },
  {
   "cell_type": "code",
   "execution_count": 15,
   "id": "bd483506",
   "metadata": {},
   "outputs": [
    {
     "data": {
      "text/plain": [
       "2017-01-03    52.36\n",
       "2017-01-04    53.26\n",
       "2017-01-05    53.77\n",
       "2017-01-06    53.98\n",
       "2017-01-09    51.95\n",
       "2017-01-10    50.82\n",
       "2017-01-11    52.19\n",
       "2017-01-12    53.01\n",
       "2017-01-13    52.36\n",
       "2017-01-17    52.45\n",
       "2017-01-18    51.12\n",
       "2017-01-19    51.39\n",
       "2017-01-20    52.33\n",
       "2017-01-23    52.77\n",
       "2017-01-24    52.38\n",
       "2017-01-25    52.14\n",
       "2017-01-26    53.24\n",
       "2017-01-27    53.18\n",
       "2017-01-30    52.63\n",
       "2017-01-31    52.75\n",
       "2017-02-01    53.90\n",
       "2017-02-02    53.55\n",
       "2017-02-03    53.81\n",
       "2017-02-06    53.01\n",
       "2017-02-07    52.19\n",
       "2017-02-08    52.37\n",
       "2017-02-09    52.99\n",
       "2017-02-10    53.84\n",
       "2017-02-13    52.96\n",
       "2017-02-14    53.21\n",
       "2017-02-15    53.11\n",
       "2017-02-16    53.41\n",
       "2017-02-17    53.41\n",
       "2017-02-21    54.02\n",
       "2017-02-22    53.61\n",
       "2017-02-23    54.48\n",
       "2017-02-24    53.99\n",
       "2017-02-27    54.04\n",
       "2017-02-28    54.00\n",
       "Name: Oil Series, dtype: float64"
      ]
     },
     "execution_count": 15,
     "metadata": {},
     "output_type": "execute_result"
    }
   ],
   "source": [
    "oil_series2 = oil_series[(oil_series.index.str[5:7]=='01') | (oil_series.index.str[5:7]=='02')]\n",
    "oil_series2  # oil_series[oil_series.index.str[5:7].isin(['01','02'])].count() can also be used"
   ]
  },
  {
   "cell_type": "code",
   "execution_count": 16,
   "id": "a9da819b",
   "metadata": {},
   "outputs": [
    {
     "data": {
      "text/plain": [
       "39"
      ]
     },
     "execution_count": 16,
     "metadata": {},
     "output_type": "execute_result"
    }
   ],
   "source": [
    "oil_series2.count()"
   ]
  },
  {
   "cell_type": "code",
   "execution_count": 17,
   "id": "2733cebb",
   "metadata": {},
   "outputs": [
    {
     "data": {
      "text/plain": [
       "0.1    47.299\n",
       "0.9    53.811\n",
       "Name: Oil Series, dtype: float64"
      ]
     },
     "execution_count": 17,
     "metadata": {},
     "output_type": "execute_result"
    }
   ],
   "source": [
    "oil_series.quantile([0.1,0.9])"
   ]
  },
  {
   "cell_type": "code",
   "execution_count": 35,
   "id": "81e52733",
   "metadata": {},
   "outputs": [
    {
     "data": {
      "text/plain": [
       "29"
      ]
     },
     "execution_count": 35,
     "metadata": {},
     "output_type": "execute_result"
    }
   ],
   "source": [
    "oil_series_int = oil_series.astype('int')\n",
    "oil_series_int1 = oil_series_int[(oil_series_int == 52)|(oil_series_int == 51)]\n",
    "oil_series_int1.count()"
   ]
  },
  {
   "cell_type": "code",
   "execution_count": 38,
   "id": "e1941a5d",
   "metadata": {},
   "outputs": [
    {
     "data": {
      "text/plain": [
       "53    0.26\n",
       "52    0.22\n",
       "47    0.13\n",
       "48    0.10\n",
       "51    0.07\n",
       "50    0.07\n",
       "49    0.06\n",
       "54    0.05\n",
       "45    0.02\n",
       "46    0.02\n",
       "Name: Oil Series, dtype: float64"
      ]
     },
     "execution_count": 38,
     "metadata": {},
     "output_type": "execute_result"
    }
   ],
   "source": [
    "oil_series.astype('int').value_counts(normalize = True)"
   ]
  },
  {
   "cell_type": "code",
   "execution_count": 37,
   "id": "8498e5ff",
   "metadata": {},
   "outputs": [
    {
     "data": {
      "text/plain": [
       "2016-12-20    52.22\n",
       "2016-12-21    51.44\n",
       "2016-12-22    51.98\n",
       "2016-12-23    52.01\n",
       "2016-12-27    52.82\n",
       "Name: Oil Series, dtype: float64"
      ]
     },
     "execution_count": 37,
     "metadata": {},
     "output_type": "execute_result"
    }
   ],
   "source": [
    "oil_series.head()"
   ]
  }
 ],
 "metadata": {
  "kernelspec": {
   "display_name": "Python 3 (ipykernel)",
   "language": "python",
   "name": "python3"
  },
  "language_info": {
   "codemirror_mode": {
    "name": "ipython",
    "version": 3
   },
   "file_extension": ".py",
   "mimetype": "text/x-python",
   "name": "python",
   "nbconvert_exporter": "python",
   "pygments_lexer": "ipython3",
   "version": "3.9.12"
  }
 },
 "nbformat": 4,
 "nbformat_minor": 5
}
