{
 "cells": [
  {
   "cell_type": "code",
   "execution_count": 2,
   "id": "e5bad3eb",
   "metadata": {},
   "outputs": [
    {
     "data": {
      "text/plain": [
       "array([ 10,  20,  30,  40,  50,  60,  70,  80,  90, 100])"
      ]
     },
     "execution_count": 2,
     "metadata": {},
     "output_type": "execute_result"
    }
   ],
   "source": [
    "import numpy as np\n",
    "my_list=[x*10 for x in range (1,11)]\n",
    "my_array=np.array(my_list)\n",
    "my_array\n"
   ]
  },
  {
   "cell_type": "code",
   "execution_count": 3,
   "id": "a5030851",
   "metadata": {},
   "outputs": [
    {
     "name": "stdout",
     "output_type": "stream",
     "text": [
      "ndim:1\n",
      "shape:(10,)\n",
      "size:10\n",
      "dtype:int32\n"
     ]
    }
   ],
   "source": [
    "print(f\"ndim:{my_array.ndim}\")\n",
    "print(f\"shape:{my_array.shape}\")\n",
    "print(f\"size:{my_array.size}\")\n",
    "print(f\"dtype:{my_array.dtype}\")\n",
    "\n"
   ]
  }
 ],
 "metadata": {
  "kernelspec": {
   "display_name": "Python 3 (ipykernel)",
   "language": "python",
   "name": "python3"
  },
  "language_info": {
   "codemirror_mode": {
    "name": "ipython",
    "version": 3
   },
   "file_extension": ".py",
   "mimetype": "text/x-python",
   "name": "python",
   "nbconvert_exporter": "python",
   "pygments_lexer": "ipython3",
   "version": "3.9.12"
  }
 },
 "nbformat": 4,
 "nbformat_minor": 5
}
