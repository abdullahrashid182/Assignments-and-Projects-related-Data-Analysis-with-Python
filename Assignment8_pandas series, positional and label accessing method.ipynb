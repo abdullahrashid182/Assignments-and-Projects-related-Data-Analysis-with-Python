{
 "cells": [
  {
   "cell_type": "code",
   "execution_count": 4,
   "id": "05d4985a",
   "metadata": {},
   "outputs": [
    {
     "data": {
      "text/plain": [
       "0     52.22\n",
       "1     51.44\n",
       "2     51.98\n",
       "3     52.01\n",
       "4     52.82\n",
       "      ...  \n",
       "95    45.84\n",
       "96    47.28\n",
       "97    47.81\n",
       "98    47.83\n",
       "99    48.86\n",
       "Name: Oil Series, Length: 100, dtype: float64"
      ]
     },
     "execution_count": 4,
     "metadata": {},
     "output_type": "execute_result"
    }
   ],
   "source": [
    "import numpy as np\n",
    "import pandas as pd\n",
    "\n",
    "# Reading the file from specific location and empty one are droped and referred the file to variable name oil\n",
    "# Then array is created named oil_array that contains last 100 elements of column name dcoilwtico in the oil.csv\n",
    "# Then array is conveterd into pandas series datatype to use the functionalities of pandas linrary\n",
    "oil = pd.read_csv('C:/Users/Abdullah Rashid/Desktop/Data Analysis with Python Udemy Course/Pandas+Course+Resources/Pandas Course Resources/retail/oil.csv').dropna()\n",
    "oil_array = np.array(oil['dcoilwtico'].iloc[1000:1100])\n",
    "oil_series = pd.Series(oil_array,name='Oil Series')\n",
    "oil_series"
   ]
  },
  {
   "cell_type": "code",
   "execution_count": 5,
   "id": "d74518c6",
   "metadata": {},
   "outputs": [
    {
     "data": {
      "text/plain": [
       "array(['2016-12-20', '2016-12-21', '2016-12-22', '2016-12-23',\n",
       "       '2016-12-27', '2016-12-28', '2016-12-29', '2016-12-30',\n",
       "       '2017-01-03', '2017-01-04', '2017-01-05', '2017-01-06',\n",
       "       '2017-01-09', '2017-01-10', '2017-01-11', '2017-01-12',\n",
       "       '2017-01-13', '2017-01-17', '2017-01-18', '2017-01-19',\n",
       "       '2017-01-20', '2017-01-23', '2017-01-24', '2017-01-25',\n",
       "       '2017-01-26', '2017-01-27', '2017-01-30', '2017-01-31',\n",
       "       '2017-02-01', '2017-02-02', '2017-02-03', '2017-02-06',\n",
       "       '2017-02-07', '2017-02-08', '2017-02-09', '2017-02-10',\n",
       "       '2017-02-13', '2017-02-14', '2017-02-15', '2017-02-16',\n",
       "       '2017-02-17', '2017-02-21', '2017-02-22', '2017-02-23',\n",
       "       '2017-02-24', '2017-02-27', '2017-02-28', '2017-03-01',\n",
       "       '2017-03-02', '2017-03-03', '2017-03-06', '2017-03-07',\n",
       "       '2017-03-08', '2017-03-09', '2017-03-10', '2017-03-13',\n",
       "       '2017-03-14', '2017-03-15', '2017-03-16', '2017-03-17',\n",
       "       '2017-03-20', '2017-03-21', '2017-03-22', '2017-03-23',\n",
       "       '2017-03-24', '2017-03-27', '2017-03-28', '2017-03-29',\n",
       "       '2017-03-30', '2017-03-31', '2017-04-03', '2017-04-04',\n",
       "       '2017-04-05', '2017-04-06', '2017-04-07', '2017-04-10',\n",
       "       '2017-04-11', '2017-04-12', '2017-04-13', '2017-04-17',\n",
       "       '2017-04-18', '2017-04-19', '2017-04-20', '2017-04-21',\n",
       "       '2017-04-24', '2017-04-25', '2017-04-26', '2017-04-27',\n",
       "       '2017-04-28', '2017-05-01', '2017-05-02', '2017-05-03',\n",
       "       '2017-05-04', '2017-05-05', '2017-05-08', '2017-05-09',\n",
       "       '2017-05-10', '2017-05-11', '2017-05-12', '2017-05-15'],\n",
       "      dtype=object)"
      ]
     },
     "execution_count": 5,
     "metadata": {},
     "output_type": "execute_result"
    }
   ],
   "source": [
    "date_array = np.array(oil['date'].iloc[1000:1100]) # from the file data in variable 'oil' date column values are chosen against last 100 elements  \n",
    "date_array"
   ]
  },
  {
   "cell_type": "code",
   "execution_count": 6,
   "id": "fef96d63",
   "metadata": {},
   "outputs": [
    {
     "data": {
      "text/plain": [
       "2016-12-20    52.22\n",
       "2016-12-21    51.44\n",
       "2016-12-22    51.98\n",
       "2016-12-23    52.01\n",
       "2016-12-27    52.82\n",
       "              ...  \n",
       "2017-05-09    45.84\n",
       "2017-05-10    47.28\n",
       "2017-05-11    47.81\n",
       "2017-05-12    47.83\n",
       "2017-05-15    48.86\n",
       "Name: Oil Series with date index, Length: 100, dtype: float64"
      ]
     },
     "execution_count": 6,
     "metadata": {},
     "output_type": "execute_result"
    }
   ],
   "source": [
    "oil_series2 = pd.Series(oil_array,index = date_array,name='Oil Series with date index') # used pandas custom index\n",
    "oil_series2  # oil_series.index = date_array will also give same result"
   ]
  },
  {
   "cell_type": "code",
   "execution_count": 8,
   "id": "da0cf99b",
   "metadata": {},
   "outputs": [
    {
     "data": {
      "text/plain": [
       "52.765"
      ]
     },
     "execution_count": 8,
     "metadata": {},
     "output_type": "execute_result"
    }
   ],
   "source": [
    "meanF10 = oil_series2.loc['2016-12-20' : '2017-01-04'].mean()  # oil_series2.iloc[:10].mean() will also give same result\n",
    "meanF10  # first 10 prices against date index"
   ]
  },
  {
   "cell_type": "code",
   "execution_count": 11,
   "id": "3ba26864",
   "metadata": {},
   "outputs": [
    {
     "data": {
      "text/plain": [
       "47.129999999999995"
      ]
     },
     "execution_count": 11,
     "metadata": {},
     "output_type": "execute_result"
    }
   ],
   "source": [
    "meanL10 = oil_series2.loc['2017-05-02':'2017-05-15'].mean()  # oil_series2.iloc[-10:].mean() will also give same result\n",
    "meanL10 #last 10 prices agains date index"
   ]
  },
  {
   "cell_type": "code",
   "execution_count": 12,
   "id": "acfd0840",
   "metadata": {},
   "outputs": [
    {
     "data": {
      "text/plain": [
       "2017-01-03    52.36\n",
       "2017-01-04    53.26\n",
       "2017-01-05    53.77\n",
       "2017-01-06    53.98\n",
       "Name: Oil Series with date index, dtype: float64"
      ]
     },
     "execution_count": 12,
     "metadata": {},
     "output_type": "execute_result"
    }
   ],
   "source": [
    "specific_oil_prices = oil_series2.loc['2017-01-01':'2017-01-07']\n",
    "specific_oil_prices  # specific prices are selected against a duration given"
   ]
  },
  {
   "cell_type": "code",
   "execution_count": 14,
   "id": "07208026",
   "metadata": {},
   "outputs": [
    {
     "data": {
      "text/plain": [
       "0    52.36\n",
       "1    53.26\n",
       "2    53.77\n",
       "3    53.98\n",
       "Name: Oil Series with date index, dtype: float64"
      ]
     },
     "execution_count": 14,
     "metadata": {},
     "output_type": "execute_result"
    }
   ],
   "source": [
    "specific_oil_prices.reset_index(drop = True)   # index is set to default and previuos custom is removed by drop = True parameter inside reset_index function"
   ]
  }
 ],
 "metadata": {
  "kernelspec": {
   "display_name": "Python 3 (ipykernel)",
   "language": "python",
   "name": "python3"
  },
  "language_info": {
   "codemirror_mode": {
    "name": "ipython",
    "version": 3
   },
   "file_extension": ".py",
   "mimetype": "text/x-python",
   "name": "python",
   "nbconvert_exporter": "python",
   "pygments_lexer": "ipython3",
   "version": "3.9.12"
  }
 },
 "nbformat": 4,
 "nbformat_minor": 5
}
