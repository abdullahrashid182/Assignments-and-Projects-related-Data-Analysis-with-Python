{
 "cells": [
  {
   "cell_type": "code",
   "execution_count": 1,
   "id": "c76a0d77",
   "metadata": {},
   "outputs": [
    {
     "name": "stdout",
     "output_type": "stream",
     "text": [
      "[ 5.99  6.99 22.49 99.99  4.99 49.99]\n",
      "['salad' 'bread' 'mustard' 'rare tomato' 'cola' 'gourmet ice cream']\n"
     ]
    }
   ],
   "source": [
    "import numpy as np\n",
    "prices=np.array([5.99,6.99,22.49,99.99,4.99,49.99])\n",
    "products=np.array(['salad','bread','mustard','rare tomato','cola','gourmet ice cream'])\n",
    "print(prices)\n",
    "print(products)"
   ]
  },
  {
   "cell_type": "code",
   "execution_count": 2,
   "id": "1687f8fb",
   "metadata": {},
   "outputs": [
    {
     "data": {
      "text/plain": [
       "array(['rare tomato', 'gourmet ice cream'], dtype='<U17')"
      ]
     },
     "execution_count": 2,
     "metadata": {},
     "output_type": "execute_result"
    }
   ],
   "source": [
    "products[prices>25] #filter the the products that are greater than 25 in prices"
   ]
  },
  {
   "cell_type": "code",
   "execution_count": 34,
   "id": "45807343",
   "metadata": {},
   "outputs": [
    {
     "data": {
      "text/plain": [
       "array(['rare tomato', 'cola', 'gourmet ice cream'], dtype='<U17')"
      ]
     },
     "execution_count": 34,
     "metadata": {},
     "output_type": "execute_result"
    }
   ],
   "source": [
    "mask = (prices>25)|(products=='cola') #products with prices>25 or cola are filtered\n",
    "fancy_feast_special= products[mask]\n",
    "fancy_feast_special"
   ]
  },
  {
   "cell_type": "code",
   "execution_count": 37,
   "id": "a1e81240",
   "metadata": {},
   "outputs": [
    {
     "data": {
      "text/plain": [
       "array([5, 5, 0, 0, 5, 0])"
      ]
     },
     "execution_count": 37,
     "metadata": {},
     "output_type": "execute_result"
    }
   ],
   "source": [
    "shipping_cost=np.where(prices>20,0,5) # for products having prices greater that 20 there will be no shipping cost but for others shipping cost will be 5\n",
    "shipping_cost"
   ]
  }
 ],
 "metadata": {
  "kernelspec": {
   "display_name": "Python 3 (ipykernel)",
   "language": "python",
   "name": "python3"
  },
  "language_info": {
   "codemirror_mode": {
    "name": "ipython",
    "version": 3
   },
   "file_extension": ".py",
   "mimetype": "text/x-python",
   "name": "python",
   "nbconvert_exporter": "python",
   "pygments_lexer": "ipython3",
   "version": "3.9.12"
  }
 },
 "nbformat": 4,
 "nbformat_minor": 5
}
