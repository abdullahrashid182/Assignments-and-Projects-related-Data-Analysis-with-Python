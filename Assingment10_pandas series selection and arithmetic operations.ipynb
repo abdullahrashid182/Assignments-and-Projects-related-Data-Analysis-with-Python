{
 "cells": [
  {
   "cell_type": "code",
   "execution_count": 1,
   "id": "2618b2ae",
   "metadata": {},
   "outputs": [
    {
     "data": {
      "text/plain": [
       "0     52.22\n",
       "1     51.44\n",
       "2     51.98\n",
       "3     52.01\n",
       "4     52.82\n",
       "      ...  \n",
       "95    45.84\n",
       "96    47.28\n",
       "97    47.81\n",
       "98    47.83\n",
       "99    48.86\n",
       "Name: Oil Series, Length: 100, dtype: float64"
      ]
     },
     "execution_count": 1,
     "metadata": {},
     "output_type": "execute_result"
    }
   ],
   "source": [
    "import numpy as np\n",
    "import pandas as pd\n",
    "oil = pd.read_csv('C:/Users/Abdullah Rashid/Desktop/Data Analysis with Python Udemy Course/Pandas+Course+Resources/Pandas Course Resources/retail/oil.csv').dropna()\n",
    "oil_array = np.array(oil['dcoilwtico'].iloc[1000:1100])\n",
    "oil_series = pd.Series(oil_array,name='Oil Series')\n",
    "oil_series"
   ]
  },
  {
   "cell_type": "code",
   "execution_count": 13,
   "id": "ce563249",
   "metadata": {},
   "outputs": [
    {
     "data": {
      "text/plain": [
       "2016-12-20    59.442\n",
       "2016-12-21    58.584\n",
       "2016-12-22    59.178\n",
       "2016-12-23    59.211\n",
       "2016-12-27    60.102\n",
       "               ...  \n",
       "2017-05-09    52.424\n",
       "2017-05-10    54.008\n",
       "2017-05-11    54.591\n",
       "2017-05-12    54.613\n",
       "2017-05-15    55.746\n",
       "Name: Oil Series, Length: 100, dtype: float64"
      ]
     },
     "execution_count": 13,
     "metadata": {},
     "output_type": "execute_result"
    }
   ],
   "source": [
    "date_array = np.array(oil['date'].iloc[1000:1100])\n",
    "oil_series.index = date_array\n",
    "oil_series1= (oil_series*1.1) + 2\n",
    "oil_series1"
   ]
  },
  {
   "cell_type": "code",
   "execution_count": 14,
   "id": "d7bee9d8",
   "metadata": {},
   "outputs": [
    {
     "data": {
      "text/plain": [
       "54.48"
      ]
     },
     "execution_count": 14,
     "metadata": {},
     "output_type": "execute_result"
    }
   ],
   "source": [
    "max_oil_price = oil_series.max()\n",
    "max_oil_price"
   ]
  },
  {
   "cell_type": "code",
   "execution_count": 16,
   "id": "25654862",
   "metadata": {},
   "outputs": [
    {
     "data": {
      "text/plain": [
       "2016-12-20     4 %\n",
       "2016-12-21     5 %\n",
       "2016-12-22     4 %\n",
       "2016-12-23     4 %\n",
       "2016-12-27     3 %\n",
       "              ... \n",
       "2017-05-09    15 %\n",
       "2017-05-10    13 %\n",
       "2017-05-11    12 %\n",
       "2017-05-12    12 %\n",
       "2017-05-15    10 %\n",
       "Name: Oil Series, Length: 100, dtype: string"
      ]
     },
     "execution_count": 16,
     "metadata": {},
     "output_type": "execute_result"
    }
   ],
   "source": [
    "perc_diff = (((max_oil_price - oil_series)/(max_oil_price)) * 100).astype('int').astype('string')+' %'\n",
    "perc_diff"
   ]
  },
  {
   "cell_type": "code",
   "execution_count": 31,
   "id": "6b9731d1",
   "metadata": {},
   "outputs": [
    {
     "data": {
      "text/plain": [
       "Int64Index([12, 12, 12, 12, 12, 12, 12, 12,  1,  1,  1,  1,  1,  1,  1,  1,  1,\n",
       "             1,  1,  1,  1,  1,  1,  1,  1,  1,  1,  1,  2,  2,  2,  2,  2,  2,\n",
       "             2,  2,  2,  2,  2,  2,  2,  2,  2,  2,  2,  2,  2,  3,  3,  3,  3,\n",
       "             3,  3,  3,  3,  3,  3,  3,  3,  3,  3,  3,  3,  3,  3,  3,  3,  3,\n",
       "             3,  3,  4,  4,  4,  4,  4,  4,  4,  4,  4,  4,  4,  4,  4,  4,  4,\n",
       "             4,  4,  4,  4,  5,  5,  5,  5,  5,  5,  5,  5,  5,  5,  5],\n",
       "           dtype='int64')"
      ]
     },
     "execution_count": 31,
     "metadata": {},
     "output_type": "execute_result"
    }
   ],
   "source": [
    "Month = perc_diff.index.str[5:7].astype('int')  # Month is extracted and converted into int type\n",
    "Month"
   ]
  },
  {
   "cell_type": "code",
   "execution_count": 32,
   "id": "0dea2ba6",
   "metadata": {},
   "outputs": [
    {
     "data": {
      "text/plain": [
       "0     12\n",
       "1     12\n",
       "2     12\n",
       "3     12\n",
       "4     12\n",
       "      ..\n",
       "95     5\n",
       "96     5\n",
       "97     5\n",
       "98     5\n",
       "99     5\n",
       "Length: 100, dtype: int64"
      ]
     },
     "execution_count": 32,
     "metadata": {},
     "output_type": "execute_result"
    }
   ],
   "source": [
    "pd.Series(Month)  #Months extracted are converted into separate series "
   ]
  }
 ],
 "metadata": {
  "kernelspec": {
   "display_name": "Python 3 (ipykernel)",
   "language": "python",
   "name": "python3"
  },
  "language_info": {
   "codemirror_mode": {
    "name": "ipython",
    "version": 3
   },
   "file_extension": ".py",
   "mimetype": "text/x-python",
   "name": "python",
   "nbconvert_exporter": "python",
   "pygments_lexer": "ipython3",
   "version": "3.9.12"
  }
 },
 "nbformat": 4,
 "nbformat_minor": 5
}
