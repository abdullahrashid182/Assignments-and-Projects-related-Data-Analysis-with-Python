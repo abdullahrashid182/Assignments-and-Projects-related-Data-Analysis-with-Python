{
 "cells": [
  {
   "cell_type": "code",
   "execution_count": 2,
   "id": "be3c4cc4",
   "metadata": {},
   "outputs": [
    {
     "data": {
      "text/plain": [
       "array([ 10.99,  11.99,  27.49, 104.99,   9.99,  54.99])"
      ]
     },
     "execution_count": 2,
     "metadata": {},
     "output_type": "execute_result"
    }
   ],
   "source": [
    "import numpy as np\n",
    "prices = np.array([5.99,6.99,22.49,99.99,4.99,49.99])\n",
    "total_prices= prices+5\n",
    "total_prices"
   ]
  },
  {
   "cell_type": "code",
   "execution_count": 4,
   "id": "fc1b7f40",
   "metadata": {},
   "outputs": [
    {
     "data": {
      "text/plain": [
       "array([[0.24742606, 0.09299006, 0.61176337],\n",
       "       [0.06066207, 0.66103343, 0.75515778],\n",
       "       [0.1108689 , 0.04305584, 0.41441747]])"
      ]
     },
     "execution_count": 4,
     "metadata": {},
     "output_type": "execute_result"
    }
   ],
   "source": [
    "rng=np.random.default_rng(2022)\n",
    "random_array=rng.random(9).reshape(3,3)\n",
    "random_array"
   ]
  },
  {
   "cell_type": "code",
   "execution_count": 9,
   "id": "77828945",
   "metadata": {},
   "outputs": [
    {
     "data": {
      "text/plain": [
       "array([[0.24742606, 0.09299006, 0.61176337],\n",
       "       [0.06066207, 0.66103343, 0.75515778]])"
      ]
     },
     "execution_count": 9,
     "metadata": {},
     "output_type": "execute_result"
    }
   ],
   "source": [
    "random_array2 = random_array[0:2:,:] #first six elements are taken as per requirement\n",
    "random_array2"
   ]
  },
  {
   "cell_type": "code",
   "execution_count": 15,
   "id": "d1ba9a50",
   "metadata": {},
   "outputs": [
    {
     "data": {
      "text/plain": [
       "array([[0.24742606, 0.09299006, 0.61176337, 0.06066207, 0.66103343,\n",
       "        0.75515778]])"
      ]
     },
     "execution_count": 15,
     "metadata": {},
     "output_type": "execute_result"
    }
   ],
   "source": [
    "discount_pct = random_array2.reshape(1,6) #extracted 6 random elements are arranged in one row as per requirement and named discount_pct\n",
    "discount_pct # discount_pct = random_array2.reshape(6) this will also give same result"
   ]
  },
  {
   "cell_type": "code",
   "execution_count": 13,
   "id": "4978f3e0",
   "metadata": {},
   "outputs": [
    {
     "data": {
      "text/plain": [
       "array([[0.75257394, 0.90700994, 0.38823663, 0.93933793, 0.33896657,\n",
       "        0.24484222]])"
      ]
     },
     "execution_count": 13,
     "metadata": {},
     "output_type": "execute_result"
    }
   ],
   "source": [
    "pct_owed=1-discount_pct #subtrcat discount_pct from 1 and store in the pct_owed as per requirement\n",
    "pct_owed"
   ]
  },
  {
   "cell_type": "code",
   "execution_count": 14,
   "id": "9d362671",
   "metadata": {},
   "outputs": [
    {
     "data": {
      "text/plain": [
       "array([[ 8.27078756, 10.87504916, 10.67262487, 98.6210889 ,  3.38627605,\n",
       "        13.4638738 ]])"
      ]
     },
     "execution_count": 14,
     "metadata": {},
     "output_type": "execute_result"
    }
   ],
   "source": [
    "final_amount=total_prices*pct_owed\n",
    "final_amount"
   ]
  },
  {
   "cell_type": "code",
   "execution_count": 17,
   "id": "4fc05c02",
   "metadata": {},
   "outputs": [
    {
     "data": {
      "text/plain": [
       "array([[ 8.27, 10.88, 10.67, 98.62,  3.39, 13.46]])"
      ]
     },
     "execution_count": 17,
     "metadata": {},
     "output_type": "execute_result"
    }
   ],
   "source": [
    "final_amount.round(2)  # this will round of the values upto 2 decimals"
   ]
  },
  {
   "cell_type": "code",
   "execution_count": 30,
   "id": "f63b4569",
   "metadata": {},
   "outputs": [
    {
     "name": "stdout",
     "output_type": "stream",
     "text": [
      "Total Prices of items [ 10.99  11.99  27.49 104.99   9.99  54.99]\n",
      "Discount' [[0.24742606 0.09299006 0.61176337 0.06066207 0.66103343 0.75515778]]\n",
      "Discount given [[0.75257394 0.90700994 0.38823663 0.93933793 0.33896657 0.24484222]]\n",
      "Final Amount after discounts [[ 8 10 10 98  3 13]]\n"
     ]
    }
   ],
   "source": [
    "print(\"Total Prices of items\",total_prices)\n",
    "print(\"Discount'\",discount_pct)\n",
    "print(\"Discount given\",pct_owed)\n",
    "print(\"Final Amount after discounts\",final_amount.astype('int'))"
   ]
  }
 ],
 "metadata": {
  "kernelspec": {
   "display_name": "Python 3 (ipykernel)",
   "language": "python",
   "name": "python3"
  },
  "language_info": {
   "codemirror_mode": {
    "name": "ipython",
    "version": 3
   },
   "file_extension": ".py",
   "mimetype": "text/x-python",
   "name": "python",
   "nbconvert_exporter": "python",
   "pygments_lexer": "ipython3",
   "version": "3.9.12"
  }
 },
 "nbformat": 4,
 "nbformat_minor": 5
}
